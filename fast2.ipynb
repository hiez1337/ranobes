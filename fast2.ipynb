{
  "cells": [
    {
      "cell_type": "markdown",
      "metadata": {
        "colab_type": "text",
        "id": "view-in-github"
      },
      "source": [
        "<a href=\"https://colab.research.google.com/github/hiez1337/ranobes/blob/main/FastScaleIt.ipynb\" target=\"_parent\"><img src=\"https://colab.research.google.com/assets/colab-badge.svg\" alt=\"Open In Colab\"/></a>"
      ]
    },
    {
      "cell_type": "markdown",
      "metadata": {
        "id": "CL9RF51yRAuT"
      },
      "source": [
        "## Внимание!\n",
        "\n",
        "Данный блокнот/среда — новая версия предыдущего блокнота. Установка ускорена, переписана большая часть кода. Предыдущий блокнот не будет обновляться, новые модели будут добавляться только сюда. \n",
        "\n",
        "**Примечание:** При длительном использование Google может установить временные ограничения, и вы не сможете пользоваться их видеокартами (внизу есть секция `Дополнительное`, можете проверить там свою видеокарту, и есть ли она вообще).\n",
        "\n",
        "**Автор:** `Sekiju#8400`. Если есть вопросы — заходите на сервер WISE (просто заявки в друзья обычно игнорирую, так что начинайте сразу с сообщения; также выкладываю новости об обновлениях): https://discord.gg/qaSzwWbVwJ<br>\n",
        "Мой Telegram-канал о сканлейте: https://telegram.me/sekijuu (скорость выхода постов такая же как и изменения в сканлейте)\n",
        "\n",
        "[Статья от ShaDream](https://docs.google.com/document/d/14oxnB88zV9dJblZXrEG-efn2CBv8VNOIf2GCCyg4QOg/edit?usp=sharing) о апскейле с помощью наложения скринтона в CSP. Советую к прочтению."
      ]
    },
    {
      "cell_type": "code",
      "execution_count": null,
      "metadata": {
        "cellView": "form",
        "id": "S54aIt7aTExC"
      },
      "outputs": [],
      "source": [
        "#@title # Подготовка блокнота\n",
        "\n",
        "\n",
        "#@markdown Запустите данный блок нажав на кнопку слева. Только один раз, чтобы установить нужные зависимости и получить доступ к [Google Drive](https://drive.google.com/drive/my-drive) (диск должен быть от аккаунта с которого вы сейчас здесь сидите).<br><br>\n",
        "\n",
        "# Подключение Google Drive\n",
        "from google.colab import drive\n",
        "drive.mount(\"/content/drive\", force_remount=True)\n",
        "\n",
        "!apt-get install imagemagick\n",
        "\n",
        "# Зависимости Python\n",
        "!pip install validators\n",
        "!pip install -U --no-cache-dir gdown --pre\n",
        "\n",
        "# Clear Console\n",
        "from google.colab import output\n",
        "output.clear()\n",
        "\n",
        "import os, os.path, validators, gdown\n",
        "\n",
        "# Вспомогательные ф-ции\n",
        "def check_esrgan():\n",
        "  !if [ ! -d \"/content/ESRGAN\" ]; then cd /content; git clone https://github.com/joeyballentine/ESRGAN.git; pip install -r /content/ESRGAN/requirements.txt; fi;\n",
        "\n",
        "def pre_upscale():\n",
        "  if validators.url(inputFolder):\n",
        "    raise Exception(\"Нужно указывать путь от корня Google Drive, а не ссылку.\") \n",
        "\n",
        "  if not os.path.isdir(\"/content/drive/MyDrive/\" + inputFolder):\n",
        "    raise Exception(\"Вы не создали папку для загрузки сканов.\") \n",
        "\n",
        "  !mkdir -p /content/drive/MyDrive/$inputFolder/OUTPUT\n",
        "\n",
        "  !rm -r /content/ESRGAN/input/* 2> /dev/null\n",
        "  !cp -r /content/drive/MyDrive/$inputFolder/*.* /content/ESRGAN/input\n",
        "\n",
        "  %cd /content/ESRGAN/\n",
        "  !find /content/ESRGAN/input -type f | echo \"Начинаем обработку $(wc -l) файла/файлов.\""
      ]
    },
    {
      "cell_type": "code",
      "execution_count": null,
      "metadata": {
        "cellView": "form",
        "id": "LTrqq1CsIgWa"
      },
      "outputs": [],
      "source": [
        "#@markdown Переходим к настройкам. В `inputFolder` нужно прописать путь внутри Google Drive **(называйте папки без пробелов и желательно на английском языке).**<br><br>\n",
        "#@markdown **Например:** Заходим на главную страницу Google Drive и создаём папку `RAWS`, а внутри неё папку `SPY_X_FAMILY` (значит значение `inputFolder` будет равно `RAWS/SPY_X_FAMILY`).<br><br>\n",
        "#@markdown Теперь можно загружать сканы в нашу только что созданную папку. После завершения апскейла программа создаст внутри папки со сканами новую директорию `OUTPUT`.\n",
        "\n",
        "inputFolder = \"RAW_TEST\" #@param {type:\"string\"}\n",
        "suffixWithModel = False\n",
        "\n",
        "#@markdown <small>После ввода (смены) параметров не забудьте запустить код занова (кнопка в левом верхнем углу).</small>"
      ]
    },
    {
      "cell_type": "markdown",
      "metadata": {
        "id": "2ff6UehSO04j"
      },
      "source": [
        "# Модели"
      ]
    },
    {
      "cell_type": "markdown",
      "metadata": {
        "id": "jDvp8vq6TSG5"
      },
      "source": [
        "И так, следующие блоки — модели. От вас требуется лишь выбрать нужную вам и нажать на кнопку старта кода.<br>\n",
        "Ознакомиться с моделями можно на [upscale.wiki](https://upscale.wiki/wiki/Model_Database) (используйте поиск по слову, чтобы понять, к какой категории относится модель)."
      ]
    },
    {
      "cell_type": "markdown",
      "metadata": {
        "id": "KG1PiPJKtPbj"
      },
      "source": [
        "### Манга"
      ]
    },
    {
      "cell_type": "code",
      "execution_count": null,
      "metadata": {
        "cellView": "form",
        "id": "w6eXcY65E2re"
      },
      "outputs": [],
      "source": [
        "#@title ##### 4x_eula_digimanga_bw_v1_860k `(Манга, x4)`\n",
        "\n",
        "check_esrgan()\n",
        "!if [ ! -e \"/content/ESRGAN/models/4x_eula_digimanga_bw_v1_860k.pth\" ]; then cd /content/ESRGAN/models; wget https://cdn.discordapp.com/attachments/450036622940045325/936099965300768808/4x_eula_digimanga_bw_v1_860k.pth; fi;\n",
        "\n",
        "# Clear Console\n",
        "from google.colab import output\n",
        "output.clear()\n",
        "\n",
        "pre_upscale()\n",
        "!python upscale.py -o /content/drive/MyDrive/$inputFolder/OUTPUT 4x_eula_digimanga_bw_v1_860k.pth"
      ]
    },
    {
      "cell_type": "code",
      "execution_count": null,
      "metadata": {
        "cellView": "form",
        "id": "CR45RvS9QeRe"
      },
      "outputs": [],
      "source": [
        "#@title ##### 4x_eula_digimanga_bw_v2_nc1_307k `(Манга, x4)`\n",
        "\n",
        "check_esrgan()\n",
        "!if [ ! -e \"/content/ESRGAN/models/4x_eula_digimanga_bw_v2_nc1_307k.pth\" ]; then cd /content/ESRGAN/models; wget https://cdn.discordapp.com/attachments/894310505622155264/1008498310597857290/4x_eula_digimanga_bw_v2_nc1_307k.pth; fi;\n",
        "\n",
        "# Clear Console\n",
        "from google.colab import output\n",
        "output.clear()\n",
        "\n",
        "pre_upscale()\n",
        "\n",
        "!python upscale.py -o /content/drive/MyDrive/$inputFolder/OUTPUT 4x_eula_digimanga_bw_v2_nc1_307k.pth"
      ]
    },
    {
      "cell_type": "markdown",
      "metadata": {
        "id": "Di5cx7X0tesn"
      },
      "source": [
        "### Аниме/арты/цветные изображения"
      ]
    },
    {
      "cell_type": "code",
      "execution_count": null,
      "metadata": {
        "cellView": "form",
        "id": "OEwF9NrCJSmT"
      },
      "outputs": [],
      "source": [
        "#@title ##### sudo_RealESRGAN2x_3.332.758_G `(Аниме/арты, x2)`\n",
        "import os, gdown, validators\n",
        "\n",
        "check_esrgan()\n",
        "if os.path.exists(\"/content/ESRGAN/models/sudo_RealESRGAN2x_3.332.758_G.pth\") == False:\n",
        "  %cd \"/content/ESRGAN/models\"\n",
        "  gdown.download(\"https://drive.google.com/uc?id=1hqaTRb_nL-2RjiuHuOz3oYEXCzdbNby1\", \"sudo_RealESRGAN2x_3.332.758_G.pth\", quiet=False)\n",
        "\n",
        "# Clear Console\n",
        "from google.colab import output\n",
        "output.clear()\n",
        "\n",
        "pre_upscale()\n",
        "!python upscale.py -o /content/drive/MyDrive/$inputFolder/OUTPUT sudo_RealESRGAN2x_3.332.758_G.pth"
      ]
    },
    {
      "cell_type": "code",
      "execution_count": null,
      "metadata": {
        "cellView": "form",
        "id": "ygxgQ9uCcQ65"
      },
      "outputs": [],
      "source": [
        "#@title ##### RealESRGAN_x4plus_anime_6B `(Аниме/арты, x4)`\n",
        "import os, gdown, validators\n",
        "\n",
        "!if [ ! -d \"/content/Real-ESRGAN\" ]; then cd /content; git clone https://github.com/xinntao/Real-ESRGAN.git; cd Real-ESRGAN; pip install basicsr facexlib gfpgan; pip install -r requirements.txt; python setup.py develop; fi;\n",
        "\n",
        "args = \"--tile 128 --outscale 2 --ext png\" #@param {type:\"string\"}\n",
        "#@markdown <small>Ознакомиться с параметрами можно в официальном <a href=\"https://github.com/xinntao/Real-ESRGAN#usage-of-python-script\">репозитории</a>.<br>Основной `--outscale` — параметр отвечающий во сколько раз увеличитатся изображение.</small>\n",
        "\n",
        "# Clear Console\n",
        "from google.colab import output\n",
        "output.clear()\n",
        "\n",
        "if validators.url(inputFolder):\n",
        "  raise Exception(\"Нужно указывать путь от корня Google Drive, а не ссылку.\") \n",
        "\n",
        "if not os.path.isdir(\"/content/drive/MyDrive/\" + inputFolder):\n",
        "  raise Exception(\"Вы не создали папку для загрузки сканов.\") \n",
        "\n",
        "!mkdir -p /content/drive/MyDrive/$inputFolder/OUTPUT\n",
        "\n",
        "!rm -r /content/Real-ESRGAN/inputs/* 2> /dev/null\n",
        "!cp -r /content/drive/MyDrive/$inputFolder/*.* /content/Real-ESRGAN/inputs\n",
        "\n",
        "%cd /content/Real-ESRGAN\n",
        "!find inputs -type f | echo \"Начинаем обработку $(wc -l) файла/файлов.\"\n",
        "!python inference_realesrgan.py -o /content/drive/MyDrive/$inputFolder/OUTPUT $args"
      ]
    },
    {
      "cell_type": "code",
      "execution_count": null,
      "metadata": {
        "cellView": "form",
        "id": "EzcoaVvHbYHy"
      },
      "outputs": [],
      "source": [
        "#@title ##### 4x_BooruGan_650k `(Аниме/арты/манга, x4)`\n",
        "\n",
        "check_esrgan()\n",
        "if os.path.exists(\"/content/ESRGAN/models/4x_BooruGan_650k.pth\") == False:\n",
        "  %cd \"/content/ESRGAN/models\"\n",
        "  gdown.download(\"https://drive.google.com/file/d/1o8C8GyZ8-KyLs4KtBcNI2ZcC7hrRAT7G/view?usp=sharing\", \"4x_BooruGan_650k.pth\", quiet=False, fuzzy=True)\n",
        "\n",
        "from google.colab import output\n",
        "output.clear()\n",
        "\n",
        "pre_upscale()\n",
        "\n",
        "!python upscale.py -o /content/drive/MyDrive/$inputFolder/OUTPUT 4x_BooruGan_650k.pth"
      ]
    },
    {
      "cell_type": "markdown",
      "metadata": {
        "id": "MPQmGvw9p1fQ"
      },
      "source": [
        "\n",
        "# Дополнительное\n"
      ]
    },
    {
      "cell_type": "code",
      "execution_count": null,
      "metadata": {
        "cellView": "form",
        "id": "iH2g_aik9LT3"
      },
      "outputs": [],
      "source": [
        "#@title ##### Переустановка ESRGAN\n",
        "\n",
        "%cd /content\n",
        "!rm -rf /ESRGAN\n",
        "!git clone https://github.com/joeyballentine/ESRGAN.git\n",
        "!pip install -r /content/ESRGAN/requirements.txt"
      ]
    },
    {
      "cell_type": "code",
      "execution_count": null,
      "metadata": {
        "cellView": "form",
        "id": "dJDhX_JbXhT0"
      },
      "outputs": [],
      "source": [
        "#@title ##### Использовать свою ESRGAN модель с Google Drive\n",
        "check_esrgan()\n",
        "\n",
        "# Clear Console\n",
        "from google.colab import output\n",
        "output.clear()\n",
        "\n",
        "model_path = 'MODELS/2x_MangaScaleV3.pth' #@param {type:\"string\"}\n",
        "#@markdown <small>Вводите путь от корня диска, как вводили `RAWS`.</small>\n",
        "\n",
        "full_model_path = os.path.join(\"/content/drive/MyDrive/\", model_path)\n",
        "if not os.path.exists(full_model_path):\n",
        "  raise Exception(\"Модель не найдена.\") \n",
        "\n",
        "pre_upscale()\n",
        "!python upscale.py -o /content/drive/MyDrive/$inputFolder/OUTPUT {full_model_path}"
      ]
    },
    {
      "cell_type": "code",
      "execution_count": null,
      "metadata": {
        "cellView": "form",
        "id": "MV17GV4a-tno"
      },
      "outputs": [],
      "source": [
        "#@title ##### Проверка видеокарты\n",
        "!nvidia-smi"
      ]
    },
    {
      "cell_type": "markdown",
      "metadata": {
        "id": "QvdZ0RVPp7HC"
      },
      "source": [
        "### Обработка\n",
        "Данные блоки применяют какие-либо операции на файлы папки `$inputFolder/OUTPUT`."
      ]
    },
    {
      "cell_type": "code",
      "execution_count": null,
      "metadata": {
        "cellView": "form",
        "id": "2HMDROGl_OEq"
      },
      "outputs": [],
      "source": [
        "#@title ##### Уменьшение разрешения в 2 раза (50%).\n",
        "!find /content/drive/MyDrive/$inputFolder/OUTPUT -maxdepth 1  -type f -print0 -name '*.png' | xargs -0 --no-run-if-empty mogrify -resize 50%"
      ]
    },
    {
      "cell_type": "code",
      "execution_count": null,
      "metadata": {
        "cellView": "form",
        "id": "oyaRbIDXt08n"
      },
      "outputs": [],
      "source": [
        "#@title ##### Перевод изображений в Gray Scale.\n",
        "!find /content/drive/MyDrive/$inputFolder/OUTPUT -maxdepth 1  -type f -print0 -name '*.png' | xargs -0 --no-run-if-empty mogrify -colorspace gray"
      ]
    }
  ],
  "metadata": {
    "accelerator": "GPU",
    "colab": {
      "collapsed_sections": [
        "KG1PiPJKtPbj",
        "Di5cx7X0tesn",
        "MPQmGvw9p1fQ"
      ],
      "gpuType": "T4",
      "include_colab_link": true,
      "private_outputs": true,
      "provenance": []
    },
    "kernelspec": {
      "display_name": "Python 3",
      "name": "python3"
    },
    "language_info": {
      "name": "python"
    }
  },
  "nbformat": 4,
  "nbformat_minor": 0
}

