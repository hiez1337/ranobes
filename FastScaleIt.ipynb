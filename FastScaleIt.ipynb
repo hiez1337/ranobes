{
  "cells": [
    {
      "cell_type": "markdown",
      "metadata": {
        "id": "view-in-github",
        "colab_type": "text"
      },
      "source": [
        "<a href=\"https://colab.research.google.com/github/hiez1337/ranobes/blob/main/FastScaleIt.ipynb\" target=\"_parent\"><img src=\"https://colab.research.google.com/assets/colab-badge.svg\" alt=\"Open In Colab\"/></a>"
      ]
    },
    {
      "cell_type": "markdown",
      "metadata": {
        "id": "CL9RF51yRAuT"
      },
      "source": [
        "## Внимание!\n",
        "\n",
        "Данный блокнот/среда — новая версия предыдущего блокнота. Установка ускорена, переписана большая часть кода. Предыдущий блокнот не будет обновляться, новые модели будут добавляться только сюда. \n",
        "\n",
        "**Примечание:** При длительном использование Google может установить временные ограничения, и вы не сможете пользоваться их видеокартами (внизу есть секция `Дополнительное`, можете проверить там свою видеокарту, и есть ли она вообще).\n",
        "\n",
        "**Автор:** `Sekiju#8400`. Если есть вопросы — заходите на сервер WISE (просто заявки в друзья обычно игнорирую, так что начинайте сразу с сообщения; также выкладываю новости об обновлениях): https://discord.gg/qaSzwWbVwJ<br>\n",
        "Мой Telegram-канал о сканлейте: https://telegram.me/sekijuu (скорость выхода постов такая же как и изменения в сканлейте)\n",
        "\n",
        "[Статья от ShaDream](https://docs.google.com/document/d/14oxnB88zV9dJblZXrEG-efn2CBv8VNOIf2GCCyg4QOg/edit?usp=sharing) о апскейле с помощью наложения скринтона в CSP. Советую к прочтению."
      ]
    },
    {
      "cell_type": "code",
      "execution_count": null,
      "metadata": {
        "id": "S54aIt7aTExC",
        "cellView": "form"
      },
      "outputs": [],
      "source": [
        "#@title # Подготовка блокнота\n",
        "\n",
        "\n",
        "#@markdown Запустите данный блок нажав на кнопку слева. Только один раз, чтобы установить нужные зависимости и получить доступ к [Google Drive](https://drive.google.com/drive/my-drive) (диск должен быть от аккаунта с которого вы сейчас здесь сидите).<br><br>\n",
        "\n",
        "# Подключение Google Drive\n",
        "from google.colab import drive\n",
        "drive.mount(\"/content/drive\", force_remount=True)\n",
        "\n",
        "!apt-get install imagemagick\n",
        "\n",
        "# Зависимости Python\n",
        "!pip install validators\n",
        "!pip install -U --no-cache-dir gdown --pre\n",
        "\n",
        "# Clear Console\n",
        "from google.colab import output\n",
        "output.clear()\n",
        "\n",
        "import os, os.path, validators, gdown\n",
        "\n",
        "# Вспомогательные ф-ции\n",
        "def check_esrgan():\n",
        "  !if [ ! -d \"/content/ESRGAN\" ]; then cd /content; git clone https://github.com/joeyballentine/ESRGAN.git; pip install -r /content/ESRGAN/requirements.txt; fi;\n",
        "\n",
        "def pre_upscale():\n",
        "  if validators.url(inputFolder):\n",
        "    raise Exception(\"Нужно указывать путь от корня Google Drive, а не ссылку.\") \n",
        "\n",
        "  if not os.path.isdir(\"/content/drive/MyDrive/\" + inputFolder):\n",
        "    raise Exception(\"Вы не создали папку для загрузки сканов.\") \n",
        "\n",
        "  !mkdir -p /content/drive/MyDrive/$inputFolder/OUTPUT\n",
        "\n",
        "  !rm -r /content/ESRGAN/input/* 2> /dev/null\n",
        "  !cp -r /content/drive/MyDrive/$inputFolder/*.* /content/ESRGAN/input\n",
        "\n",
        "  %cd /content/ESRGAN/\n",
        "  !find /content/ESRGAN/input -type f | echo \"Начинаем обработку $(wc -l) файла/файлов.\""
      ]
    },
    {
      "cell_type": "code",
      "execution_count": null,
      "metadata": {
        "cellView": "form",
        "id": "LTrqq1CsIgWa"
      },
      "outputs": [],
      "source": [
        "#@markdown Переходим к настройкам. В `inputFolder` нужно прописать путь внутри Google Drive **(называйте папки без пробелов и желательно на английском языке).**<br><br>\n",
        "#@markdown **Например:** Заходим на главную страницу Google Drive и создаём папку `RAWS`, а внутри неё папку `SPY_X_FAMILY` (значит значение `inputFolder` будет равно `RAWS/SPY_X_FAMILY`).<br><br>\n",
        "#@markdown Теперь можно загружать сканы в нашу только что созданную папку. После завершения апскейла программа создаст внутри папки со сканами новую директорию `OUTPUT`.\n",
        "\n",
        "inputFolder = \"RAW_TEST\" #@param {type:\"string\"}\n",
        "suffixWithModel = False\n",
        "\n",
        "#@markdown <small>После ввода (смены) параметров не забудьте запустить код занова (кнопка в левом верхнем углу).</small>"
      ]
    },
    {
      "cell_type": "markdown",
      "metadata": {
        "id": "2ff6UehSO04j"
      },
      "source": [
        "# Модели"
      ]
    },
    {
      "cell_type": "markdown",
      "metadata": {
        "id": "jDvp8vq6TSG5"
      },
      "source": [
        "И так, следующие блоки — модели. От вас требуется лишь выбрать нужную вам и нажать на кнопку старта кода.<br>\n",
        "Ознакомиться с моделями можно на [upscale.wiki](https://upscale.wiki/wiki/Model_Database) (используйте поиск по слову, чтобы понять, к какой категории относится модель)."
      ]
    },
    {
      "cell_type": "markdown",
      "metadata": {
        "id": "KG1PiPJKtPbj"
      },
      "source": [
        "### Манга"
      ]
    },
    {
      "cell_type": "code",
      "execution_count": null,
      "metadata": {
        "cellView": "form",
        "id": "w6eXcY65E2re"
      },
      "outputs": [],
      "source": [
        "#@title ##### 4x_eula_digimanga_bw_v1_860k `(Манга, x4)`\n",
        "\n",
        "check_esrgan()\n",
        "!if [ ! -e \"/content/ESRGAN/models/4x_eula_digimanga_bw_v1_860k.pth\" ]; then cd /content/ESRGAN/models; wget https://cdn.discordapp.com/attachments/450036622940045325/936099965300768808/4x_eula_digimanga_bw_v1_860k.pth; fi;\n",
        "\n",
        "# Clear Console\n",
        "from google.colab import output\n",
        "output.clear()\n",
        "\n",
        "pre_upscale()\n",
        "!python upscale.py -o /content/drive/MyDrive/$inputFolder/OUTPUT 4x_eula_digimanga_bw_v1_860k.pth"
      ]
    },
    {
      "cell_type": "code",
      "execution_count": null,
      "metadata": {
        "cellView": "form",
        "id": "CR45RvS9QeRe"
      },
      "outputs": [],
      "source": [
        "#@title ##### 4x_eula_digimanga_bw_v2_nc1_307k `(Манга, x4)`\n",
        "\n",
        "check_esrgan()\n",
        "!if [ ! -e \"/content/ESRGAN/models/4x_eula_digimanga_bw_v2_nc1_307k.pth\" ]; then cd /content/ESRGAN/models; wget https://cdn.discordapp.com/attachments/894310505622155264/1008498310597857290/4x_eula_digimanga_bw_v2_nc1_307k.pth; fi;\n",
        "\n",
        "# Clear Console\n",
        "from google.colab import output\n",
        "output.clear()\n",
        "\n",
        "pre_upscale()\n",
        "\n",
        "!python upscale.py -o /content/drive/MyDrive/$inputFolder/OUTPUT 4x_eula_digimanga_bw_v2_nc1_307k.pth"
      ]
    },
    {
      "cell_type": "code",
      "execution_count": null,
      "metadata": {
        "cellView": "form",
        "id": "qpZvK41QRfv6"
      },
      "outputs": [],
      "source": [
        "#@title ##### 1x_MangaJPEG `(Манга, х1, убирает шумы)`\n",
        "check_esrgan()\n",
        "%cd \"/content/ESRGAN/models\"\n",
        "if os.path.exists(\"/content/ESRGAN/models/1x_MangaJPEGHQPlus.pth\") == False:\n",
        "  gdown.download(\"https://drive.google.com/uc?id=1fApcJFiUpC4pRqqMtHHwcYdUGYxVNMw5\", \"1x_MangaJPEGHQPlus.pth\", quiet=False)\n",
        "if os.path.exists(\"/content/ESRGAN/models/1x_MangaJPEGHQ.pth\") == False:\n",
        "  gdown.download(\"https://drive.google.com/uc?id=1ywCxVYnFyJuXPa8noTJojSd14VYpwS7x\", \"1x_MangaJPEGHQ.pth\", quiet=False)\n",
        "if os.path.exists(\"/content/ESRGAN/models/1x_MangaJPEGMQ.pth\") == False:\n",
        "  gdown.download(\"https://drive.google.com/uc?id=1yL-FDB69KNKZlWIFBQ-fH9rEhEL8A5A1\", \"1x_MangaJPEGMQ.pth\", quiet=False)\n",
        "if os.path.exists(\"/content/ESRGAN/models/1x_MangaJPEGLQ.pth\") == False:\n",
        "  gdown.download(\"https://drive.google.com/uc?id=1C7TMbMulkMK8nWnhELHXzu5ftBVnA1rb\", \"1x_MangaJPEGLQ.pth\", quiet=False)\n",
        "\n",
        "# Clear Console\n",
        "from google.colab import output\n",
        "output.clear()\n",
        "\n",
        "model = \"1x_MangaJPEGMQ\" #@param [\"1x_MangaJPEGHQPlus\", \"1x_MangaJPEGHQ\", \"1x_MangaJPEGMQ\", \"1x_MangaJPEGLQ\"]\n",
        "\n",
        "pre_upscale()\n",
        "\n",
        "!python upscale.py -o /content/drive/MyDrive/$inputFolder/OUTPUT \"{model}.pth\""
      ]
    },
    {
      "cell_type": "code",
      "execution_count": null,
      "metadata": {
        "cellView": "form",
        "id": "v12rAOHqoBuf"
      },
      "outputs": [],
      "source": [
        "#@title ##### 1x_eula_digimanga_bw_v3_nc1_52k `(Манга, x1, убирает шумы)`\n",
        "import os, gdown, validators\n",
        "\n",
        "check_esrgan()\n",
        "!if [ ! -e \"/content/ESRGAN/models/1x_eula_digimanga_bw_v3_nc1_52k.pth\" ]; then cd /content/ESRGAN/models; wget https://cdn.discordapp.com/attachments/450036622940045325/1008506998423306331/1x_eula_digimanga_bw_v3_nc1_52k.pth; fi;\n",
        "\n",
        "# Clear Console\n",
        "from google.colab import output\n",
        "output.clear()\n",
        "\n",
        "pre_upscale()\n",
        "\n",
        "!python upscale.py -o /content/drive/MyDrive/$inputFolder/OUTPUT 1x_eula_digimanga_bw_v3_nc1_52k.pth"
      ]
    },
    {
      "cell_type": "markdown",
      "metadata": {
        "id": "Di5cx7X0tesn"
      },
      "source": [
        "### Аниме/арты/цветные изображения"
      ]
    },
    {
      "cell_type": "code",
      "execution_count": null,
      "metadata": {
        "cellView": "form",
        "id": "Fwec2UqRe7wW"
      },
      "outputs": [],
      "source": [
        "#@title ##### 4x-AnimeSharp `(Аниме/арты, x4)`\n",
        "\n",
        "check_esrgan()\n",
        "if os.path.exists(\"/content/ESRGAN/models/4x-AnimeSharp.pth\") == False:\n",
        "  %cd \"/content/ESRGAN/models\"\n",
        "  gdown.download(\"https://drive.google.com/file/d/1tlPtYlGqhcUV7lKtqK2-XEyVi1Q2Q2D7/view?usp=sharing\", \"4x-AnimeSharp.pth\", quiet=False, fuzzy=True)\n",
        "\n",
        "from google.colab import output\n",
        "output.clear()\n",
        "\n",
        "pre_upscale()\n",
        "\n",
        "!python upscale.py -o /content/drive/MyDrive/$inputFolder/OUTPUT 4x-AnimeSharp.pth"
      ]
    },
    {
      "cell_type": "code",
      "execution_count": null,
      "metadata": {
        "cellView": "form",
        "id": "OEwF9NrCJSmT"
      },
      "outputs": [],
      "source": [
        "#@title ##### sudo_RealESRGAN2x_3.332.758_G `(Аниме/арты, x2)`\n",
        "import os, gdown, validators\n",
        "\n",
        "check_esrgan()\n",
        "if os.path.exists(\"/content/ESRGAN/models/sudo_RealESRGAN2x_3.332.758_G.pth\") == False:\n",
        "  %cd \"/content/ESRGAN/models\"\n",
        "  gdown.download(\"https://drive.google.com/uc?id=1hqaTRb_nL-2RjiuHuOz3oYEXCzdbNby1\", \"sudo_RealESRGAN2x_3.332.758_G.pth\", quiet=False)\n",
        "\n",
        "# Clear Console\n",
        "from google.colab import output\n",
        "output.clear()\n",
        "\n",
        "pre_upscale()\n",
        "!python upscale.py -o /content/drive/MyDrive/$inputFolder/OUTPUT sudo_RealESRGAN2x_3.332.758_G.pth"
      ]
    },
    {
      "cell_type": "code",
      "execution_count": null,
      "metadata": {
        "cellView": "form",
        "id": "id9NuJFRL-kf"
      },
      "outputs": [],
      "source": [
        "#@title ##### 1x_Saiyajin_DeJPEG_300000_G `(Аниме/арты/манга, x1, убирает шумы)`\n",
        "import os, gdown, validators\n",
        "\n",
        "check_esrgan()\n",
        "if os.path.exists(\"/content/ESRGAN/models/1x_Saiyajin_DeJPEG_300000_G.pth\") == False:\n",
        "  %cd \"/content/ESRGAN/models\"\n",
        "  gdown.download(\"https://drive.google.com/uc?id=14_2yy9EdJKuE-U3qiaRgLwFKX-MRdU-d\", \"1x_Saiyajin_DeJPEG_300000_G.pth\", quiet=False)\n",
        "\n",
        "# Clear Console\n",
        "from google.colab import output\n",
        "output.clear()\n",
        "\n",
        "pre_upscale()\n",
        "!python upscale.py -o /content/drive/MyDrive/$inputFolder/OUTPUT 1x_Saiyajin_DeJPEG_300000_G.pth"
      ]
    },
    {
      "cell_type": "code",
      "execution_count": null,
      "metadata": {
        "cellView": "form",
        "id": "ygxgQ9uCcQ65"
      },
      "outputs": [],
      "source": [
        "#@title ##### RealESRGAN_x4plus_anime_6B `(Аниме/арты, x4)`\n",
        "import os, gdown, validators\n",
        "\n",
        "!if [ ! -d \"/content/Real-ESRGAN\" ]; then cd /content; git clone https://github.com/xinntao/Real-ESRGAN.git; cd Real-ESRGAN; pip install basicsr facexlib gfpgan; pip install -r requirements.txt; python setup.py develop; fi;\n",
        "\n",
        "args = \"--tile 128 --outscale 2 --ext png\" #@param {type:\"string\"}\n",
        "#@markdown <small>Ознакомиться с параметрами можно в официальном <a href=\"https://github.com/xinntao/Real-ESRGAN#usage-of-python-script\">репозитории</a>.<br>Основной `--outscale` — параметр отвечающий во сколько раз увеличитатся изображение.</small>\n",
        "\n",
        "# Clear Console\n",
        "from google.colab import output\n",
        "output.clear()\n",
        "\n",
        "if validators.url(inputFolder):\n",
        "  raise Exception(\"Нужно указывать путь от корня Google Drive, а не ссылку.\") \n",
        "\n",
        "if not os.path.isdir(\"/content/drive/MyDrive/\" + inputFolder):\n",
        "  raise Exception(\"Вы не создали папку для загрузки сканов.\") \n",
        "\n",
        "!mkdir -p /content/drive/MyDrive/$inputFolder/OUTPUT\n",
        "\n",
        "!rm -r /content/Real-ESRGAN/inputs/* 2> /dev/null\n",
        "!cp -r /content/drive/MyDrive/$inputFolder/*.* /content/Real-ESRGAN/inputs\n",
        "\n",
        "%cd /content/Real-ESRGAN\n",
        "!find inputs -type f | echo \"Начинаем обработку $(wc -l) файла/файлов.\"\n",
        "!python inference_realesrgan.py -o /content/drive/MyDrive/$inputFolder/OUTPUT $args"
      ]
    },
    {
      "cell_type": "code",
      "execution_count": null,
      "metadata": {
        "cellView": "form",
        "id": "1CjMMcweLvoo"
      },
      "outputs": [],
      "source": [
        "#@title ##### 4x_eula_anifilm_v1_225k `(Аниме/текст, x4)`\n",
        "\n",
        "check_esrgan()\n",
        "if os.path.exists(\"/content/ESRGAN/models/4x_eula_anifilm_v1_225k.pth\") == False:\n",
        "  %cd \"/content/ESRGAN/models\"\n",
        "  gdown.download(\"https://drive.google.com/file/d/1agpd8vwfFK22g5ZheOMO4yZozXfINLZV/view?usp=sharing\", \"4x_eula_anifilm_v1_225k.pth\", quiet=False, fuzzy=True)\n",
        "\n",
        "from google.colab import output\n",
        "output.clear()\n",
        "\n",
        "pre_upscale()\n",
        "\n",
        "!python upscale.py -o /content/drive/MyDrive/$inputFolder/OUTPUT 4x_eula_anifilm_v1_225k.pth"
      ]
    },
    {
      "cell_type": "code",
      "execution_count": null,
      "metadata": {
        "cellView": "form",
        "id": "kI6HCEmsOJD2"
      },
      "outputs": [],
      "source": [
        "#@title ##### 4x-anifilm_compact `(Аниме, x4/x2)`\n",
        "\n",
        "check_esrgan()\n",
        "%cd \"/content/ESRGAN/models\"\n",
        "if os.path.exists(\"/content/ESRGAN/models/4x-anifilm_compact.pth\") == False:\n",
        "  gdown.download(\"https://drive.google.com/file/d/1HZwXp3TBU6z_3LY31FtNEZR3Nh7ZlhQO/view?usp=sharing\", \"4x-anifilm_compact.pth\", quiet=False, fuzzy=True)\n",
        "if os.path.exists(\"/content/ESRGAN/models/2x-anifilm_compact.pth\") == False:\n",
        "  gdown.download(\"https://drive.google.com/file/d/1FTwLSpKaWs3yLvcZyQJZWUsxx0QqDUAH/view?usp=sharing\", \"2x-anifilm_compact.pth\", quiet=False, fuzzy=True)\n",
        "\n",
        "from google.colab import output\n",
        "output.clear()\n",
        "\n",
        "scale_factor = \"4x\" #@param [\"4x\", \"2x\"]\n",
        "\n",
        "pre_upscale()\n",
        "\n",
        "!python upscale.py -o /content/drive/MyDrive/$inputFolder/OUTPUT \"{scale_factor}-anifilm_compact.pth\""
      ]
    },
    {
      "cell_type": "code",
      "execution_count": null,
      "metadata": {
        "cellView": "form",
        "id": "EzcoaVvHbYHy"
      },
      "outputs": [],
      "source": [
        "#@title ##### 4x_BooruGan_650k `(Аниме/арты/манга, x4)`\n",
        "\n",
        "check_esrgan()\n",
        "if os.path.exists(\"/content/ESRGAN/models/4x_BooruGan_650k.pth\") == False:\n",
        "  %cd \"/content/ESRGAN/models\"\n",
        "  gdown.download(\"https://drive.google.com/file/d/1o8C8GyZ8-KyLs4KtBcNI2ZcC7hrRAT7G/view?usp=sharing\", \"4x_BooruGan_650k.pth\", quiet=False, fuzzy=True)\n",
        "\n",
        "from google.colab import output\n",
        "output.clear()\n",
        "\n",
        "pre_upscale()\n",
        "\n",
        "!python upscale.py -o /content/drive/MyDrive/$inputFolder/OUTPUT 4x_BooruGan_650k.pth"
      ]
    },
    {
      "cell_type": "code",
      "execution_count": null,
      "metadata": {
        "cellView": "form",
        "id": "ERlOLVyedcVE"
      },
      "outputs": [],
      "source": [
        "#@title ##### 4x_NMKD-YandereNeo-Lite_320k `(Аниме/арты, x4)`\n",
        "\n",
        "check_esrgan()\n",
        "if os.path.exists(\"/content/ESRGAN/models/4x_NMKD-YandereNeo-Lite_320k.pth\") == False:\n",
        "  %cd \"/content/ESRGAN/models\"\n",
        "  gdown.download(\"https://drive.google.com/file/d/1h-AxGOD2HHWR6m5t3nCg3bA_c3suHnr5/view?usp=share_link\", \"4x_NMKD-YandereNeo-Lite_320k.pth\", quiet=False, fuzzy=True)\n",
        "\n",
        "from google.colab import output\n",
        "output.clear()\n",
        "\n",
        "pre_upscale()\n",
        "\n",
        "!python upscale.py -o /content/drive/MyDrive/$inputFolder/OUTPUT 4x_NMKD-YandereNeo-Lite_320k.pth"
      ]
    },
    {
      "cell_type": "code",
      "execution_count": null,
      "metadata": {
        "cellView": "form",
        "id": "vHJ9EXowd7g0"
      },
      "outputs": [],
      "source": [
        "#@title ##### 2x_NMKD-YandereNeo-Lite_320k-10k `(Аниме/арты, x2)`\n",
        "\n",
        "check_esrgan()\n",
        "if os.path.exists(\"/content/ESRGAN/models/2x_NMKD-YandereNeo-Lite_320k-10k.pth\") == False:\n",
        "  %cd \"/content/ESRGAN/models\"\n",
        "  gdown.download(\"https://drive.google.com/file/d/1T3cENXXys77vnoFTTuaPfgD9LtSA2i0Q/view?usp=share_link\", \"2x_NMKD-YandereNeo-Lite_320k-10k.pth\", quiet=False, fuzzy=True)\n",
        "\n",
        "from google.colab import output\n",
        "output.clear()\n",
        "\n",
        "pre_upscale()\n",
        "\n",
        "!python upscale.py -o /content/drive/MyDrive/$inputFolder/OUTPUT 2x_NMKD-YandereNeo-Lite_320k-10k.pth"
      ]
    },
    {
      "cell_type": "code",
      "execution_count": null,
      "metadata": {
        "cellView": "form",
        "id": "HeZwPrnqfxpS"
      },
      "outputs": [],
      "source": [
        "#@title ##### 2x_Bubble_AnimeScale_Compact_v1 `(Аниме, x2)`\n",
        "\n",
        "check_esrgan()\n",
        "if os.path.exists(\"/content/ESRGAN/models/2x_Bubble_AnimeScale_Compact_v1.pth\") == False:\n",
        "  %cd \"/content/ESRGAN/models\"\n",
        "  gdown.download(\"https://drive.google.com/file/d/1im-dn0ngGdvK7WRS6P5S7ybkthH8YKvs/view?usp=share_link\", \"2x_Bubble_AnimeScale_Compact_v1.pth\", quiet=False, fuzzy=True)\n",
        "\n",
        "from google.colab import output\n",
        "output.clear()\n",
        "\n",
        "pre_upscale()\n",
        "\n",
        "!python upscale.py -o /content/drive/MyDrive/$inputFolder/OUTPUT 2x_Bubble_AnimeScale_Compact_v1.pth"
      ]
    },
    {
      "cell_type": "code",
      "execution_count": null,
      "metadata": {
        "cellView": "form",
        "id": "dXpJtNSxHqiB"
      },
      "outputs": [],
      "source": [
        "#@title ##### 1x_ReFocus_Cleanly_100000_G.pth `(Аниме/арты/фото, x1, убирает шумы)`\n",
        "import os, gdown, validators\n",
        "\n",
        "check_esrgan()\n",
        "if os.path.exists(\"/content/ESRGAN/models/1x_ReFocus_Cleanly_100000_G.pth\") == False:\n",
        "  %cd \"/content/ESRGAN/models\"\n",
        "  !wget -O /content/ESRGAN/models/1x_ReFocus_Cleanly_100000_G.pth https://de-next.owncube.com/index.php/s/GjbBw7pcgm5gmYm/download\n",
        "  # gdown.download(\"https://drive.google.com/uc?id=14_2yy9EdJKuE-U3qiaRgLwFKX-MRdU-d\", \"__.pth\", quiet=False)\n",
        "\n",
        "# Clear Console\n",
        "from google.colab import output\n",
        "output.clear()\n",
        "\n",
        "pre_upscale()\n",
        "\n",
        "!python upscale.py -o /content/drive/MyDrive/$inputFolder/OUTPUT 1x_ReFocus_Cleanly_100000_G.pth"
      ]
    },
    {
      "cell_type": "code",
      "execution_count": null,
      "metadata": {
        "cellView": "form",
        "id": "DPP83JnCT-ZL"
      },
      "outputs": [],
      "source": [
        "#@title ##### 1x_ReFocus_V3_140000_G.pth `(Аниме/арты/фото, x1, убирает шумы)`\n",
        "import os, gdown, validators\n",
        "\n",
        "check_esrgan()\n",
        "if os.path.exists(\"/content/ESRGAN/models/1x_ReFocus_V3_140000_G.pth\") == False:\n",
        "  %cd \"/content/ESRGAN/models\"\n",
        "  !wget -O /content/ESRGAN/models/1x_ReFocus_V3_140000_G.pth https://de-next.owncube.com/index.php/s/HyygDgXEB45JqBH/download\n",
        "  # gdown.download(\"https://drive.google.com/uc?id=14_2yy9EdJKuE-U3qiaRgLwFKX-MRdU-d\", \"___.pth\", quiet=False)\n",
        "\n",
        "# Clear Console\n",
        "from google.colab import output\n",
        "output.clear()\n",
        "\n",
        "pre_upscale()\n",
        "\n",
        "!python upscale.py -o /content/drive/MyDrive/$inputFolder/OUTPUT 1x_ReFocus_V3_140000_G.pth"
      ]
    },
    {
      "cell_type": "code",
      "source": [
        "#@title ##### Real-CUGAN `(Аниме/арты/фото)`\n",
        "# !rm -rf /content/ailab\n",
        "# https://drive.google.com/drive/folders/1jAJyBf2qKe2povySwsGXsVMnzVyQzqDD\n",
        "\n",
        "modelPath = \"/content/ailab/Real-CUGAN/models/\" # model dir\n",
        "inputPath = \"/content/ailab/Real-CUGAN/input/\" # input dir\n",
        "\n",
        "modelName = \"up3x-latest-conservative\" #@param [\"up2x-latest-no-denoise\", \"up2x-latest-denoise1x\", \"up2x-latest-denoise2x\", \"up2x-latest-denoise3x\", \"up2x-latest-conservative\", \"up3x-latest-conservative\", \"up4x-latest-no-denoise\"]\n",
        "Tile = 0 #{0,1,2,3,4,auto}; the larger the number, the smaller the memory consumption\n",
        "\n",
        "!if [ ! -d \"/content/ailab\" ]; then cd /content; git clone https://github.com/bilibili/ailab.git; fi;\n",
        "\n",
        "!mkdir -p $modelPath $inputPath\n",
        "\n",
        "modelsDict = {\n",
        "  \"up2x-latest-no-denoise\": [\"https://drive.google.com/file/d/1bl8Tx_Dk7ROSTLExIrn0DqwLfbD3_m7l/view?usp=sharing\", 2],\n",
        "  \"up2x-latest-denoise1x\": [\"https://drive.google.com/file/d/10tKRHh0U8b3n8-gfsIcH7JYal4mPwjCu/view?usp=sharing\", 2],\n",
        "  \"up2x-latest-denoise2x\": [\"https://drive.google.com/file/d/1z8kkt7BA2zaMb91juJLHKXDyPwGszKrf/view?usp=share_link\", 2],\n",
        "  \"up2x-latest-denoise3x\": [\"https://drive.google.com/file/d/14rb4LsWp709j90-Gwdi6tCJvBX40N-YN/view?usp=sharing\", 2],\n",
        "  \"up2x-latest-conservative\": [\"https://drive.google.com/file/d/1ol2Za6zxv6Wr1XjUQdjEmL_Dy2BYWcDn/view?usp=sharing\", 2],\n",
        "  \"up3x-latest-conservative\": [\"https://drive.google.com/file/d/19WGR16PtdCFnR6w_094HhcK9vHaW3Ir1/view?usp=sharing\", 3],\n",
        "  \"up4x-latest-no-denoise\": [\"https://drive.google.com/file/d/1Z6uIFTdSDI5xJs_0kAoUCYQsuuUL9ExX/view?usp=sharing\", 4]\n",
        "}\n",
        "\n",
        "modelObj = modelsDict.get(modelName)\n",
        "\n",
        "if modelObj is None:\n",
        "  raise Exception(\"Invalid modelName prop\") \n",
        "\n",
        "if os.path.exists(f\"/content/ailab/Real-CUGAN/models/{modelName}.pth\") == False:\n",
        "  %cd $modelPath\n",
        "  gdown.download(modelObj[0], f\"{modelName}.pth\", quiet=False, fuzzy=True)\n",
        "\n",
        "from google.colab import output\n",
        "output.clear()\n",
        "\n",
        "if validators.url(inputFolder):\n",
        "  raise Exception(\"Нужно указывать путь от корня Google Drive, а не ссылку.\") \n",
        "\n",
        "if not os.path.isdir(\"/content/drive/MyDrive/\" + inputFolder):\n",
        "  raise Exception(\"Вы не создали папку для загрузки сканов.\") \n",
        "\n",
        "!mkdir -p /content/drive/MyDrive/$inputFolder/OUTPUT\n",
        "\n",
        "!rm -r $inputPath* 2> /dev/null\n",
        "!cp -r /content/drive/MyDrive/$inputFolder/*.* $inputPath\n",
        "\n",
        "%cd /content/ailab/Real-CUGAN/\n",
        "!find $modelPath -type f | echo \"Начинаем обработку $(wc -l) файла/файлов.\"\n",
        "\n",
        "import sys\n",
        "sys.path.append(\"/content/ailab/Real-CUGAN\")\n",
        "import matplotlib.pyplot as plt\n",
        "%matplotlib inline\n",
        "import torch\n",
        "from torch import nn as nn\n",
        "from torch.nn import functional as F\n",
        "import os,sys,cv2\n",
        "import numpy as np\n",
        "from upcunet_v3 import RealWaifuUpScaler\n",
        "from time import time as ttime  \n",
        "fileNames = os.listdir(inputPath)\n",
        "print(f\"using model {modelPath + modelName}\")\n",
        "upscaler = RealWaifuUpScaler(modelObj[1], modelPath + modelName + \".pth\", half=True, device=\"cuda:0\")\n",
        "t0 = ttime()\n",
        "for i in fileNames:\n",
        "  torch.cuda.empty_cache()\n",
        "  try:\n",
        "    img = cv2.imread(inputPath + i)[:, :, [2, 1, 0]]\n",
        "    result = upscaler(img,tile_mode=5,cache_mode=2,alpha=1)\n",
        "    cv2.imwrite(f\"/content/drive/MyDrive/{inputFolder}/OUTPUT/{i}\", result[:, :, ::-1])\n",
        "  except RuntimeError as e:\n",
        "    print (i+\" FAILED\")\n",
        "    print (e)\n",
        "  else:\n",
        "    print(i+\" DONE\")\n",
        "    os.remove(inputPath + i)\n",
        "t1 = ttime()\n",
        "print(\"time_spent\", t1 - t0)"
      ],
      "metadata": {
        "id": "PL9_PfSIPWf1",
        "cellView": "form"
      },
      "execution_count": null,
      "outputs": []
    },
    {
      "cell_type": "code",
      "source": [
        "#@title ##### 4x-AnimeSharp-lite `(Аниме/арты, x4)`\n",
        "\n",
        "check_esrgan()\n",
        "if os.path.exists(\"/content/ESRGAN/models/4x-AnimeSharp-lite.pth\") == False:\n",
        "  %cd \"/content/ESRGAN/models\"\n",
        "  gdown.download(\"https://drive.google.com/file/d/1Pc22q8y_N-_rbtp6rZVIEmkp_AVKgNJw/view?usp=sharing\", \"4x-AnimeSharp-lite.pth\", quiet=False, fuzzy=True)\n",
        "\n",
        "from google.colab import output\n",
        "output.clear()\n",
        "\n",
        "pre_upscale()\n",
        "\n",
        "!python upscale.py -o /content/drive/MyDrive/$inputFolder/OUTPUT 4x-AnimeSharp-lite.pth"
      ],
      "metadata": {
        "cellView": "form",
        "id": "14LxUjz0PQ-C"
      },
      "execution_count": null,
      "outputs": []
    },
    {
      "cell_type": "markdown",
      "metadata": {
        "id": "MPQmGvw9p1fQ"
      },
      "source": [
        "\n",
        "# Дополнительное\n"
      ]
    },
    {
      "cell_type": "code",
      "execution_count": null,
      "metadata": {
        "cellView": "form",
        "id": "iH2g_aik9LT3"
      },
      "outputs": [],
      "source": [
        "#@title ##### Переустановка ESRGAN\n",
        "\n",
        "%cd /content\n",
        "!rm -rf /ESRGAN\n",
        "!git clone https://github.com/joeyballentine/ESRGAN.git\n",
        "!pip install -r /content/ESRGAN/requirements.txt"
      ]
    },
    {
      "cell_type": "code",
      "execution_count": null,
      "metadata": {
        "cellView": "form",
        "id": "dJDhX_JbXhT0"
      },
      "outputs": [],
      "source": [
        "#@title ##### Использовать свою ESRGAN модель с Google Drive\n",
        "check_esrgan()\n",
        "\n",
        "# Clear Console\n",
        "from google.colab import output\n",
        "output.clear()\n",
        "\n",
        "model_path = 'MODELS/2x_MangaScaleV3.pth' #@param {type:\"string\"}\n",
        "#@markdown <small>Вводите путь от корня диска, как вводили `RAWS`.</small>\n",
        "\n",
        "full_model_path = os.path.join(\"/content/drive/MyDrive/\", model_path)\n",
        "if not os.path.exists(full_model_path):\n",
        "  raise Exception(\"Модель не найдена.\") \n",
        "\n",
        "pre_upscale()\n",
        "!python upscale.py -o /content/drive/MyDrive/$inputFolder/OUTPUT {full_model_path}"
      ]
    },
    {
      "cell_type": "code",
      "execution_count": null,
      "metadata": {
        "cellView": "form",
        "id": "MV17GV4a-tno"
      },
      "outputs": [],
      "source": [
        "#@title ##### Проверка видеокарты\n",
        "!nvidia-smi"
      ]
    },
    {
      "cell_type": "markdown",
      "metadata": {
        "id": "QvdZ0RVPp7HC"
      },
      "source": [
        "### Обработка\n",
        "Данные блоки применяют какие-либо операции на файлы папки `$inputFolder/OUTPUT`."
      ]
    },
    {
      "cell_type": "code",
      "execution_count": null,
      "metadata": {
        "id": "2HMDROGl_OEq",
        "cellView": "form"
      },
      "outputs": [],
      "source": [
        "#@title ##### Уменьшение разрешения в 2 раза (50%).\n",
        "!find /content/drive/MyDrive/$inputFolder/OUTPUT -maxdepth 1  -type f -print0 -name '*.png' | xargs -0 --no-run-if-empty mogrify -resize 50%"
      ]
    },
    {
      "cell_type": "code",
      "execution_count": null,
      "metadata": {
        "cellView": "form",
        "id": "oyaRbIDXt08n"
      },
      "outputs": [],
      "source": [
        "#@title ##### Перевод изображений в Gray Scale.\n",
        "!find /content/drive/MyDrive/$inputFolder/OUTPUT -maxdepth 1  -type f -print0 -name '*.png' | xargs -0 --no-run-if-empty mogrify -colorspace gray"
      ]
    }
  ],
  "metadata": {
    "accelerator": "GPU",
    "colab": {
      "collapsed_sections": [
        "KG1PiPJKtPbj",
        "Di5cx7X0tesn",
        "MPQmGvw9p1fQ"
      ],
      "provenance": [],
      "private_outputs": true,
      "gpuType": "T4",
      "include_colab_link": true
    },
    "kernelspec": {
      "display_name": "Python 3",
      "name": "python3"
    },
    "language_info": {
      "name": "python"
    }
  },
  "nbformat": 4,
  "nbformat_minor": 0
}